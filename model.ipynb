{
 "metadata": {
  "language_info": {
   "codemirror_mode": {
    "name": "ipython",
    "version": 3
   },
   "file_extension": ".py",
   "mimetype": "text/x-python",
   "name": "python",
   "nbconvert_exporter": "python",
   "pygments_lexer": "ipython3",
   "version": "3.7.9-final"
  },
  "orig_nbformat": 2,
  "kernelspec": {
   "name": "python3",
   "display_name": "Python 3.7.9 64-bit ('catArt': conda)",
   "metadata": {
    "interpreter": {
     "hash": "5f84581e0bcba7db8806d2fc629223bae5d159360685c8bcc1980adeaa49d20c"
    }
   }
  }
 },
 "nbformat": 4,
 "nbformat_minor": 2,
 "cells": [
  {
   "source": [
    "# Artificial Faces Recognition Project\n",
    "----------\n",
    "Importing libraries:"
   ],
   "cell_type": "markdown",
   "metadata": {}
  },
  {
   "cell_type": "code",
   "execution_count": 1,
   "metadata": {},
   "outputs": [],
   "source": [
    "import os\n",
    "import tensorflow as tf\n",
    "from tensorflow import keras\n",
    "from tensorflow.keras.constraints import max_norm\n",
    "from tensorflow.keras.preprocessing.image import ImageDataGenerator\n",
    "from tensorflow.keras.optimizers import Adam\n",
    "from tensorflow.keras.models import Sequential\n",
    "from sklearn.metrics import confusion_matrix\n",
    "import numpy as np\n",
    "import pandas as pd\n",
    "import matplotlib.pyplot as plt\n",
    "from PIL import Image\n",
    "import io\n",
    "import glob\n",
    "import random\n",
    "import shutil\n"
   ]
  },
  {
   "source": [
    "Setting up our training, validation and testing data folders:"
   ],
   "cell_type": "markdown",
   "metadata": {}
  },
  {
   "cell_type": "code",
   "execution_count": 2,
   "metadata": {},
   "outputs": [],
   "source": [
    "train_frac = 0.6\n",
    "validation_frac = 0.2\n",
    "\n",
    "reset_dataset = False\n",
    "\n",
    "#Let's check if the folders already exist, and if not, create them. We may want to create them again with different settings too\n",
    "if not os.path.isdir('real_and_fake_face/train/fake') or reset_dataset:\n",
    "\n",
    "    #Deleting pre existing folders if they exist\n",
    "    if os.path.isdir('real_and_fake_face/train/fake'):\n",
    "        shutil.rmtree('real_and_fake_face/train/real')\n",
    "        shutil.rmtree('real_and_fake_face/train/fake')\n",
    "        shutil.rmtree('real_and_fake_face/validation/real')    \n",
    "        shutil.rmtree('real_and_fake_face/validation/fake')\n",
    "        shutil.rmtree('real_and_fake_face/test/real')\n",
    "        shutil.rmtree('real_and_fake_face/test/fake')\n",
    "\n",
    "    #Creating empty folders\n",
    "    os.makedirs('real_and_fake_face/train/real')\n",
    "    os.makedirs('real_and_fake_face/train/fake')\n",
    "    os.makedirs('real_and_fake_face/validation/real')    \n",
    "    os.makedirs('real_and_fake_face/validation/fake')\n",
    "    os.makedirs('real_and_fake_face/test/real')\n",
    "    os.makedirs('real_and_fake_face/test/fake')\n",
    "\n",
    "    #Separating the training, validation and test data\n",
    "    real_files = os.listdir('real_and_fake_face/real_complete')\n",
    "    random.shuffle(real_files)\n",
    "    count_real = len(real_files)\n",
    "    fake_files = os.listdir('real_and_fake_face/fake_complete')\n",
    "    random.shuffle(fake_files)\n",
    "    count_fake = len(fake_files)\n",
    "\n",
    "    train_real = real_files[0:int(count_real*train_frac)]\n",
    "    validation_real = real_files[int(count_real*train_frac):int(count_real*train_frac)+int(count_real*validation_frac)]\n",
    "    test_real = real_files[int(count_real*train_frac)+int(count_real*validation_frac)::]\n",
    "\n",
    "    train_fake = fake_files[0:int(count_fake*train_frac)]\n",
    "    validation_fake = fake_files[int(count_fake*train_frac):int(count_fake*train_frac)+int(count_fake*validation_frac)]\n",
    "    test_fake = fake_files[int(count_fake*train_frac)+int(count_fake*validation_frac)::]\n",
    "\n",
    "    #Filling the empty folders\n",
    "    for file in train_real:\n",
    "        src = 'real_and_fake_face/real_complete/'+file\n",
    "        dst = 'real_and_fake_face/train/real/'+file\n",
    "        shutil.copyfile(src,dst)\n",
    "    for file in validation_real:\n",
    "        src = 'real_and_fake_face/real_complete/'+file\n",
    "        dst = 'real_and_fake_face/validation/real/'+file\n",
    "        shutil.copyfile(src,dst)\n",
    "    for file in test_real:\n",
    "        src = 'real_and_fake_face/real_complete/'+file\n",
    "        dst = 'real_and_fake_face/test/real/'+file\n",
    "        shutil.copyfile(src,dst)\n",
    "    for file in train_fake:\n",
    "        src = 'real_and_fake_face/fake_complete/'+file\n",
    "        dst = 'real_and_fake_face/train/fake/'+file\n",
    "        shutil.copyfile(src,dst)\n",
    "    for file in validation_fake:\n",
    "        src = 'real_and_fake_face/fake_complete/'+file\n",
    "        dst = 'real_and_fake_face/validation/fake/'+file\n",
    "        shutil.copyfile(src,dst)\n",
    "    for file in test_fake:\n",
    "        src = 'real_and_fake_face/fake_complete/'+file\n",
    "        dst = 'real_and_fake_face/test/fake/'+file\n",
    "        shutil.copyfile(src,dst)\n"
   ]
  },
  {
   "source": [
    "Configuring the reading and preprocessing of data:"
   ],
   "cell_type": "markdown",
   "metadata": {}
  },
  {
   "cell_type": "code",
   "execution_count": 3,
   "metadata": {},
   "outputs": [
    {
     "output_type": "stream",
     "name": "stdout",
     "text": [
      "Found 1224 images belonging to 2 classes.\n",
      "Found 408 images belonging to 2 classes.\n",
      "Found 409 images belonging to 2 classes.\n"
     ]
    }
   ],
   "source": [
    "train_path = 'real_and_fake_face/train'\n",
    "validation_path = 'real_and_fake_face/validation'\n",
    "test_path = 'real_and_fake_face/test'\n",
    "\n",
    "train_batches = ImageDataGenerator(preprocessing_function=tf.keras.applications.vgg16.preprocess_input) \\\n",
    "    .flow_from_directory(directory=train_path,target_size=(224,224),classes=['real','fake'],batch_size=10)\n",
    "validation_batches = ImageDataGenerator(preprocessing_function=tf.keras.applications.vgg16.preprocess_input) \\\n",
    "    .flow_from_directory(directory=validation_path,target_size=(224,224),classes=['real','fake'],batch_size=10)\n",
    "test_batches = ImageDataGenerator(preprocessing_function=tf.keras.applications.vgg16.preprocess_input) \\\n",
    "    .flow_from_directory(directory=test_path,target_size=(224,224),classes=['real','fake'],batch_size=10)"
   ]
  },
  {
   "cell_type": "code",
   "execution_count": 6,
   "metadata": {},
   "outputs": [
    {
     "output_type": "stream",
     "name": "stdout",
     "text": [
      "Model: \"sequential_1\"\n_________________________________________________________________\nLayer (type)                 Output Shape              Param #   \n=================================================================\nconv2d_2 (Conv2D)            (None, 224, 224, 32)      896       \n_________________________________________________________________\nmax_pooling2d_2 (MaxPooling2 (None, 112, 112, 32)      0         \n_________________________________________________________________\nconv2d_3 (Conv2D)            (None, 112, 112, 64)      18496     \n_________________________________________________________________\nmax_pooling2d_3 (MaxPooling2 (None, 56, 56, 64)        0         \n_________________________________________________________________\nflatten_1 (Flatten)          (None, 200704)            0         \n_________________________________________________________________\ndense_1 (Dense)              (None, 2)                 401410    \n=================================================================\nTotal params: 420,802\nTrainable params: 420,802\nNon-trainable params: 0\n_________________________________________________________________\n"
     ]
    }
   ],
   "source": [
    "model = Sequential()\n",
    "model.add(keras.layers.Conv2D(filters=32, kernel_size=(3,3),activation='relu',padding='same',input_shape=(224,224,3),\\\n",
    "    kernel_constraint=max_norm(0.5), bias_constraint=max_norm(0.5)))           \n",
    "model.add(keras.layers.MaxPool2D(pool_size=(2,2),strides=2))\n",
    "model.add(keras.layers.Conv2D(filters=64,kernel_size=(3,3),activation='relu',padding='same',\\\n",
    "    kernel_constraint=max_norm(0.5), bias_constraint=max_norm(0.5)))\n",
    "model.add(keras.layers.MaxPool2D(pool_size=(2,2),strides=2))\n",
    "model.add(keras.layers.Flatten())\n",
    "model.add(keras.layers.Dense(units=2,activation='softmax'))\n",
    "model.summary()"
   ]
  },
  {
   "cell_type": "code",
   "execution_count": 7,
   "metadata": {
    "tags": []
   },
   "outputs": [
    {
     "output_type": "stream",
     "name": "stdout",
     "text": [
      "Train for 123 steps, validate for 41 steps\n",
      "Epoch 1/10\n",
      "WARNING:tensorflow:Entity <function Function._initialize_uninitialized_variables.<locals>.initialize_variables at 0x000001F64A3B0558> could not be transformed and will be executed as-is. Please report this to the AutoGraph team. When filing the bug, set the verbosity to 10 (on Linux, `export AUTOGRAPH_VERBOSITY=10`) and attach the full output. Cause: No module named 'tensorflow_core.estimator'\n",
      "WARNING: Entity <function Function._initialize_uninitialized_variables.<locals>.initialize_variables at 0x000001F64A3B0558> could not be transformed and will be executed as-is. Please report this to the AutoGraph team. When filing the bug, set the verbosity to 10 (on Linux, `export AUTOGRAPH_VERBOSITY=10`) and attach the full output. Cause: No module named 'tensorflow_core.estimator'\n",
      "123/123 - 77s - loss: 16.0581 - accuracy: 0.5400 - val_loss: 6.4154 - val_accuracy: 0.5613\n",
      "Epoch 2/10\n",
      "123/123 - 83s - loss: 3.4912 - accuracy: 0.6724 - val_loss: 3.4597 - val_accuracy: 0.5613\n",
      "Epoch 3/10\n",
      "123/123 - 87s - loss: 1.0649 - accuracy: 0.8211 - val_loss: 2.5908 - val_accuracy: 0.5931\n",
      "Epoch 4/10\n",
      "123/123 - 82s - loss: 0.3103 - accuracy: 0.9158 - val_loss: 2.3518 - val_accuracy: 0.5711\n",
      "Epoch 5/10\n",
      "123/123 - 85s - loss: 0.0925 - accuracy: 0.9673 - val_loss: 2.1708 - val_accuracy: 0.5882\n",
      "Epoch 6/10\n",
      "123/123 - 90s - loss: 0.0148 - accuracy: 0.9951 - val_loss: 2.1677 - val_accuracy: 0.5882\n",
      "Epoch 7/10\n",
      "123/123 - 83s - loss: 0.0031 - accuracy: 1.0000 - val_loss: 2.1891 - val_accuracy: 0.5956\n",
      "Epoch 8/10\n",
      "123/123 - 83s - loss: 0.0020 - accuracy: 1.0000 - val_loss: 2.2005 - val_accuracy: 0.5907\n",
      "Epoch 9/10\n",
      "123/123 - 82s - loss: 0.0017 - accuracy: 1.0000 - val_loss: 2.2119 - val_accuracy: 0.5931\n",
      "Epoch 10/10\n",
      "123/123 - 85s - loss: 0.0014 - accuracy: 1.0000 - val_loss: 2.2260 - val_accuracy: 0.5956\n"
     ]
    },
    {
     "output_type": "execute_result",
     "data": {
      "text/plain": [
       "<tensorflow.python.keras.callbacks.History at 0x1f64a3beec8>"
      ]
     },
     "metadata": {},
     "execution_count": 7
    }
   ],
   "source": [
    "model.compile(optimizer=Adam(learning_rate=0.0001),loss='categorical_crossentropy',metrics=['accuracy'])\n",
    "model.fit(x=train_batches,validation_data=validation_batches,epochs=10,verbose=2)"
   ]
  },
  {
   "cell_type": "code",
   "execution_count": null,
   "metadata": {},
   "outputs": [],
   "source": []
  }
 ]
}