{
 "metadata": {
  "language_info": {
   "codemirror_mode": {
    "name": "ipython",
    "version": 3
   },
   "file_extension": ".py",
   "mimetype": "text/x-python",
   "name": "python",
   "nbconvert_exporter": "python",
   "pygments_lexer": "ipython3",
   "version": "3.7.9-final"
  },
  "orig_nbformat": 2,
  "kernelspec": {
   "name": "python3",
   "display_name": "Python 3.7.9 64-bit",
   "metadata": {
    "interpreter": {
     "hash": "5f84581e0bcba7db8806d2fc629223bae5d159360685c8bcc1980adeaa49d20c"
    }
   }
  }
 },
 "nbformat": 4,
 "nbformat_minor": 2,
 "cells": [
  {
   "source": [
    "# Artificial Faces Recognition Project\n",
    "----------\n",
    "Importing libraries:"
   ],
   "cell_type": "markdown",
   "metadata": {}
  },
  {
   "cell_type": "code",
   "execution_count": 1,
   "metadata": {},
   "outputs": [],
   "source": [
    "import os\n",
    "import tensorflow as tf\n",
    "from tensorflow import keras\n",
    "from tensorflow.keras.constraints import max_norm\n",
    "from tensorflow.keras.preprocessing.image import ImageDataGenerator\n",
    "from tensorflow.keras.optimizers import Adam\n",
    "from tensorflow.keras.models import Sequential, Model\n",
    "from sklearn.metrics import confusion_matrix\n",
    "import numpy as np\n",
    "import pandas as pd\n",
    "import matplotlib.pyplot as plt\n",
    "from PIL import Image\n",
    "import io\n",
    "import glob\n",
    "import random\n",
    "import shutil"
   ]
  },
  {
   "source": [
    "Setting up our training, validation and testing data folders:"
   ],
   "cell_type": "markdown",
   "metadata": {}
  },
  {
   "cell_type": "code",
   "execution_count": 2,
   "metadata": {},
   "outputs": [],
   "source": [
    "train_frac = 0.6\n",
    "validation_frac = 0.2\n",
    "\n",
    "reset_dataset = False\n",
    "\n",
    "#Let's check if the folders already exist, and if not, create them. We may want to create them again with different settings too\n",
    "if not os.path.isdir('real_and_fake_face/train/fake') or reset_dataset:\n",
    "\n",
    "    #Deleting pre existing folders if they exist\n",
    "    if os.path.isdir('real_and_fake_face/train/fake'):\n",
    "        shutil.rmtree('real_and_fake_face/train/real')\n",
    "        shutil.rmtree('real_and_fake_face/train/fake')\n",
    "        shutil.rmtree('real_and_fake_face/validation/real')    \n",
    "        shutil.rmtree('real_and_fake_face/validation/fake')\n",
    "        shutil.rmtree('real_and_fake_face/test/real')\n",
    "        shutil.rmtree('real_and_fake_face/test/fake')\n",
    "\n",
    "    #Creating empty folders\n",
    "    os.makedirs('real_and_fake_face/train/real')\n",
    "    os.makedirs('real_and_fake_face/train/fake')\n",
    "    os.makedirs('real_and_fake_face/validation/real')    \n",
    "    os.makedirs('real_and_fake_face/validation/fake')\n",
    "    os.makedirs('real_and_fake_face/test/real')\n",
    "    os.makedirs('real_and_fake_face/test/fake')\n",
    "\n",
    "    #Separating the training, validation and test data\n",
    "    real_files = os.listdir('real_and_fake_face/real_complete')\n",
    "    random.shuffle(real_files)\n",
    "    count_real = len(real_files)\n",
    "    fake_files = os.listdir('real_and_fake_face/fake_complete')\n",
    "    random.shuffle(fake_files)\n",
    "    count_fake = len(fake_files)\n",
    "\n",
    "    train_real = real_files[0:int(count_real*train_frac)]\n",
    "    validation_real = real_files[int(count_real*train_frac):int(count_real*train_frac)+int(count_real*validation_frac)]\n",
    "    test_real = real_files[int(count_real*train_frac)+int(count_real*validation_frac)::]\n",
    "\n",
    "    train_fake = fake_files[0:int(count_fake*train_frac)]\n",
    "    validation_fake = fake_files[int(count_fake*train_frac):int(count_fake*train_frac)+int(count_fake*validation_frac)]\n",
    "    test_fake = fake_files[int(count_fake*train_frac)+int(count_fake*validation_frac)::]\n",
    "\n",
    "    #Filling the empty folders\n",
    "    for file in train_real:\n",
    "        src = 'real_and_fake_face/real_complete/'+file\n",
    "        dst = 'real_and_fake_face/train/real/'+file\n",
    "        shutil.copyfile(src,dst)\n",
    "    for file in validation_real:\n",
    "        src = 'real_and_fake_face/real_complete/'+file\n",
    "        dst = 'real_and_fake_face/validation/real/'+file\n",
    "        shutil.copyfile(src,dst)\n",
    "    for file in test_real:\n",
    "        src = 'real_and_fake_face/real_complete/'+file\n",
    "        dst = 'real_and_fake_face/test/real/'+file\n",
    "        shutil.copyfile(src,dst)\n",
    "    for file in train_fake:\n",
    "        src = 'real_and_fake_face/fake_complete/'+file\n",
    "        dst = 'real_and_fake_face/train/fake/'+file\n",
    "        shutil.copyfile(src,dst)\n",
    "    for file in validation_fake:\n",
    "        src = 'real_and_fake_face/fake_complete/'+file\n",
    "        dst = 'real_and_fake_face/validation/fake/'+file\n",
    "        shutil.copyfile(src,dst)\n",
    "    for file in test_fake:\n",
    "        src = 'real_and_fake_face/fake_complete/'+file\n",
    "        dst = 'real_and_fake_face/test/fake/'+file\n",
    "        shutil.copyfile(src,dst)\n"
   ]
  },
  {
   "source": [
    "Configuring the reading and preprocessing of data:"
   ],
   "cell_type": "markdown",
   "metadata": {}
  },
  {
   "cell_type": "code",
   "execution_count": 3,
   "metadata": {},
   "outputs": [
    {
     "output_type": "stream",
     "name": "stdout",
     "text": [
      "Found 1224 images belonging to 2 classes.\n",
      "Found 408 images belonging to 2 classes.\n",
      "Found 409 images belonging to 2 classes.\n"
     ]
    }
   ],
   "source": [
    "train_path = 'real_and_fake_face/train'\n",
    "validation_path = 'real_and_fake_face/validation'\n",
    "test_path = 'real_and_fake_face/test'\n",
    "\n",
    "train_batches = ImageDataGenerator(preprocessing_function=tf.keras.applications.vgg16.preprocess_input, \\\n",
    "    rotation_range=10, horizontal_flip=True) \\\n",
    "    .flow_from_directory(directory=train_path,target_size=(224,224),classes=['real','fake'],batch_size=10)\n",
    "validation_batches = ImageDataGenerator(preprocessing_function=tf.keras.applications.vgg16.preprocess_input, \\\n",
    "    rotation_range=10, horizontal_flip=True) \\\n",
    "    .flow_from_directory(directory=validation_path,target_size=(224,224),classes=['real','fake'],batch_size=10)\n",
    "test_batches = ImageDataGenerator(preprocessing_function=tf.keras.applications.vgg16.preprocess_input, \\\n",
    "    rotation_range=10, horizontal_flip=True) \\\n",
    "    .flow_from_directory(directory=test_path,target_size=(224,224),classes=['real','fake'],batch_size=10)\n"
   ]
  },
  {
   "cell_type": "code",
   "execution_count": 74,
   "metadata": {},
   "outputs": [
    {
     "output_type": "stream",
     "name": "stdout",
     "text": [
      "Model: \"sequential_6\"\n_________________________________________________________________\nLayer (type)                 Output Shape              Param #   \n=================================================================\nconv2d_12 (Conv2D)           (None, 224, 224, 32)      896       \n_________________________________________________________________\nmax_pooling2d_12 (MaxPooling (None, 112, 112, 32)      0         \n_________________________________________________________________\nconv2d_13 (Conv2D)           (None, 112, 112, 64)      18496     \n_________________________________________________________________\nmax_pooling2d_13 (MaxPooling (None, 56, 56, 64)        0         \n_________________________________________________________________\nflatten_6 (Flatten)          (None, 200704)            0         \n_________________________________________________________________\ndense_22 (Dense)             (None, 2)                 401410    \n=================================================================\nTotal params: 420,802\nTrainable params: 420,802\nNon-trainable params: 0\n_________________________________________________________________\n"
     ]
    }
   ],
   "source": [
    "model = Sequential()\n",
    "model.add(keras.layers.Conv2D(filters=32, kernel_size=(3,3),activation='relu',padding='same',input_shape=(224,224,3),\\\n",
    "    kernel_constraint=max_norm(0.5), bias_constraint=max_norm(0.5)))           \n",
    "model.add(keras.layers.MaxPool2D(pool_size=(2,2),strides=2))\n",
    "model.add(keras.layers.Conv2D(filters=64,kernel_size=(3,3),activation='relu',padding='same',\\\n",
    "    kernel_constraint=max_norm(0.5), bias_constraint=max_norm(0.5)))\n",
    "model.add(keras.layers.MaxPool2D(pool_size=(2,2),strides=2))\n",
    "model.add(keras.layers.Flatten())\n",
    "model.add(keras.layers.Dense(units=2,activation='softmax'))\n",
    "model.summary()"
   ]
  },
  {
   "cell_type": "code",
   "execution_count": 75,
   "metadata": {
    "tags": []
   },
   "outputs": [],
   "source": [
    "#model.compile(optimizer=Adam(learning_rate=0.0001),loss='categorical_crossentropy',metrics=['accuracy'])\n",
    "#model.fit(x=train_batches,validation_data=validation_batches,epochs=10,verbose=2)"
   ]
  },
  {
   "cell_type": "code",
   "execution_count": 76,
   "metadata": {},
   "outputs": [
    {
     "output_type": "stream",
     "name": "stdout",
     "text": [
      "Model: \"mobilenet_1.00_224\"\n_________________________________________________________________\nLayer (type)                 Output Shape              Param #   \n=================================================================\ninput_8 (InputLayer)         [(None, 224, 224, 3)]     0         \n_________________________________________________________________\nconv1_pad (ZeroPadding2D)    (None, 225, 225, 3)       0         \n_________________________________________________________________\nconv1 (Conv2D)               (None, 112, 112, 32)      864       \n_________________________________________________________________\nconv1_bn (BatchNormalization (None, 112, 112, 32)      128       \n_________________________________________________________________\nconv1_relu (ReLU)            (None, 112, 112, 32)      0         \n_________________________________________________________________\nconv_dw_1 (DepthwiseConv2D)  (None, 112, 112, 32)      288       \n_________________________________________________________________\nconv_dw_1_bn (BatchNormaliza (None, 112, 112, 32)      128       \n_________________________________________________________________\nconv_dw_1_relu (ReLU)        (None, 112, 112, 32)      0         \n_________________________________________________________________\nconv_pw_1 (Conv2D)           (None, 112, 112, 64)      2048      \n_________________________________________________________________\nconv_pw_1_bn (BatchNormaliza (None, 112, 112, 64)      256       \n_________________________________________________________________\nconv_pw_1_relu (ReLU)        (None, 112, 112, 64)      0         \n_________________________________________________________________\nconv_pad_2 (ZeroPadding2D)   (None, 113, 113, 64)      0         \n_________________________________________________________________\nconv_dw_2 (DepthwiseConv2D)  (None, 56, 56, 64)        576       \n_________________________________________________________________\nconv_dw_2_bn (BatchNormaliza (None, 56, 56, 64)        256       \n_________________________________________________________________\nconv_dw_2_relu (ReLU)        (None, 56, 56, 64)        0         \n_________________________________________________________________\nconv_pw_2 (Conv2D)           (None, 56, 56, 128)       8192      \n_________________________________________________________________\nconv_pw_2_bn (BatchNormaliza (None, 56, 56, 128)       512       \n_________________________________________________________________\nconv_pw_2_relu (ReLU)        (None, 56, 56, 128)       0         \n_________________________________________________________________\nconv_dw_3 (DepthwiseConv2D)  (None, 56, 56, 128)       1152      \n_________________________________________________________________\nconv_dw_3_bn (BatchNormaliza (None, 56, 56, 128)       512       \n_________________________________________________________________\nconv_dw_3_relu (ReLU)        (None, 56, 56, 128)       0         \n_________________________________________________________________\nconv_pw_3 (Conv2D)           (None, 56, 56, 128)       16384     \n_________________________________________________________________\nconv_pw_3_bn (BatchNormaliza (None, 56, 56, 128)       512       \n_________________________________________________________________\nconv_pw_3_relu (ReLU)        (None, 56, 56, 128)       0         \n_________________________________________________________________\nconv_pad_4 (ZeroPadding2D)   (None, 57, 57, 128)       0         \n_________________________________________________________________\nconv_dw_4 (DepthwiseConv2D)  (None, 28, 28, 128)       1152      \n_________________________________________________________________\nconv_dw_4_bn (BatchNormaliza (None, 28, 28, 128)       512       \n_________________________________________________________________\nconv_dw_4_relu (ReLU)        (None, 28, 28, 128)       0         \n_________________________________________________________________\nconv_pw_4 (Conv2D)           (None, 28, 28, 256)       32768     \n_________________________________________________________________\nconv_pw_4_bn (BatchNormaliza (None, 28, 28, 256)       1024      \n_________________________________________________________________\nconv_pw_4_relu (ReLU)        (None, 28, 28, 256)       0         \n_________________________________________________________________\nconv_dw_5 (DepthwiseConv2D)  (None, 28, 28, 256)       2304      \n_________________________________________________________________\nconv_dw_5_bn (BatchNormaliza (None, 28, 28, 256)       1024      \n_________________________________________________________________\nconv_dw_5_relu (ReLU)        (None, 28, 28, 256)       0         \n_________________________________________________________________\nconv_pw_5 (Conv2D)           (None, 28, 28, 256)       65536     \n_________________________________________________________________\nconv_pw_5_bn (BatchNormaliza (None, 28, 28, 256)       1024      \n_________________________________________________________________\nconv_pw_5_relu (ReLU)        (None, 28, 28, 256)       0         \n_________________________________________________________________\nconv_pad_6 (ZeroPadding2D)   (None, 29, 29, 256)       0         \n_________________________________________________________________\nconv_dw_6 (DepthwiseConv2D)  (None, 14, 14, 256)       2304      \n_________________________________________________________________\nconv_dw_6_bn (BatchNormaliza (None, 14, 14, 256)       1024      \n_________________________________________________________________\nconv_dw_6_relu (ReLU)        (None, 14, 14, 256)       0         \n_________________________________________________________________\nconv_pw_6 (Conv2D)           (None, 14, 14, 512)       131072    \n_________________________________________________________________\nconv_pw_6_bn (BatchNormaliza (None, 14, 14, 512)       2048      \n_________________________________________________________________\nconv_pw_6_relu (ReLU)        (None, 14, 14, 512)       0         \n_________________________________________________________________\nconv_dw_7 (DepthwiseConv2D)  (None, 14, 14, 512)       4608      \n_________________________________________________________________\nconv_dw_7_bn (BatchNormaliza (None, 14, 14, 512)       2048      \n_________________________________________________________________\nconv_dw_7_relu (ReLU)        (None, 14, 14, 512)       0         \n_________________________________________________________________\nconv_pw_7 (Conv2D)           (None, 14, 14, 512)       262144    \n_________________________________________________________________\nconv_pw_7_bn (BatchNormaliza (None, 14, 14, 512)       2048      \n_________________________________________________________________\nconv_pw_7_relu (ReLU)        (None, 14, 14, 512)       0         \n_________________________________________________________________\nconv_dw_8 (DepthwiseConv2D)  (None, 14, 14, 512)       4608      \n_________________________________________________________________\nconv_dw_8_bn (BatchNormaliza (None, 14, 14, 512)       2048      \n_________________________________________________________________\nconv_dw_8_relu (ReLU)        (None, 14, 14, 512)       0         \n_________________________________________________________________\nconv_pw_8 (Conv2D)           (None, 14, 14, 512)       262144    \n_________________________________________________________________\nconv_pw_8_bn (BatchNormaliza (None, 14, 14, 512)       2048      \n_________________________________________________________________\nconv_pw_8_relu (ReLU)        (None, 14, 14, 512)       0         \n_________________________________________________________________\nconv_dw_9 (DepthwiseConv2D)  (None, 14, 14, 512)       4608      \n_________________________________________________________________\nconv_dw_9_bn (BatchNormaliza (None, 14, 14, 512)       2048      \n_________________________________________________________________\nconv_dw_9_relu (ReLU)        (None, 14, 14, 512)       0         \n_________________________________________________________________\nconv_pw_9 (Conv2D)           (None, 14, 14, 512)       262144    \n_________________________________________________________________\nconv_pw_9_bn (BatchNormaliza (None, 14, 14, 512)       2048      \n_________________________________________________________________\nconv_pw_9_relu (ReLU)        (None, 14, 14, 512)       0         \n_________________________________________________________________\nconv_dw_10 (DepthwiseConv2D) (None, 14, 14, 512)       4608      \n_________________________________________________________________\nconv_dw_10_bn (BatchNormaliz (None, 14, 14, 512)       2048      \n_________________________________________________________________\nconv_dw_10_relu (ReLU)       (None, 14, 14, 512)       0         \n_________________________________________________________________\nconv_pw_10 (Conv2D)          (None, 14, 14, 512)       262144    \n_________________________________________________________________\nconv_pw_10_bn (BatchNormaliz (None, 14, 14, 512)       2048      \n_________________________________________________________________\nconv_pw_10_relu (ReLU)       (None, 14, 14, 512)       0         \n_________________________________________________________________\nconv_dw_11 (DepthwiseConv2D) (None, 14, 14, 512)       4608      \n_________________________________________________________________\nconv_dw_11_bn (BatchNormaliz (None, 14, 14, 512)       2048      \n_________________________________________________________________\nconv_dw_11_relu (ReLU)       (None, 14, 14, 512)       0         \n_________________________________________________________________\nconv_pw_11 (Conv2D)          (None, 14, 14, 512)       262144    \n_________________________________________________________________\nconv_pw_11_bn (BatchNormaliz (None, 14, 14, 512)       2048      \n_________________________________________________________________\nconv_pw_11_relu (ReLU)       (None, 14, 14, 512)       0         \n_________________________________________________________________\nconv_pad_12 (ZeroPadding2D)  (None, 15, 15, 512)       0         \n_________________________________________________________________\nconv_dw_12 (DepthwiseConv2D) (None, 7, 7, 512)         4608      \n_________________________________________________________________\nconv_dw_12_bn (BatchNormaliz (None, 7, 7, 512)         2048      \n_________________________________________________________________\nconv_dw_12_relu (ReLU)       (None, 7, 7, 512)         0         \n_________________________________________________________________\nconv_pw_12 (Conv2D)          (None, 7, 7, 1024)        524288    \n_________________________________________________________________\nconv_pw_12_bn (BatchNormaliz (None, 7, 7, 1024)        4096      \n_________________________________________________________________\nconv_pw_12_relu (ReLU)       (None, 7, 7, 1024)        0         \n_________________________________________________________________\nconv_dw_13 (DepthwiseConv2D) (None, 7, 7, 1024)        9216      \n_________________________________________________________________\nconv_dw_13_bn (BatchNormaliz (None, 7, 7, 1024)        4096      \n_________________________________________________________________\nconv_dw_13_relu (ReLU)       (None, 7, 7, 1024)        0         \n_________________________________________________________________\nconv_pw_13 (Conv2D)          (None, 7, 7, 1024)        1048576   \n_________________________________________________________________\nconv_pw_13_bn (BatchNormaliz (None, 7, 7, 1024)        4096      \n_________________________________________________________________\nconv_pw_13_relu (ReLU)       (None, 7, 7, 1024)        0         \n_________________________________________________________________\nglobal_average_pooling2d_9 ( (None, 1024)              0         \n_________________________________________________________________\nreshape_1 (Reshape)          (None, 1, 1, 1024)        0         \n_________________________________________________________________\ndropout (Dropout)            (None, 1, 1, 1024)        0         \n_________________________________________________________________\nconv_preds (Conv2D)          (None, 1, 1, 1000)        1025000   \n_________________________________________________________________\nreshape_2 (Reshape)          (None, 1000)              0         \n_________________________________________________________________\npredictions (Activation)     (None, 1000)              0         \n=================================================================\nTotal params: 4,253,864\nTrainable params: 4,231,976\nNon-trainable params: 21,888\n_________________________________________________________________\n"
     ]
    }
   ],
   "source": [
    "mobile = tf.keras.applications.mobilenet.MobileNet()\n",
    "mobile.summary()"
   ]
  },
  {
   "cell_type": "code",
   "execution_count": 88,
   "metadata": {},
   "outputs": [
    {
     "output_type": "stream",
     "name": "stdout",
     "text": [
      "Model: \"model_16\"\n_________________________________________________________________\nLayer (type)                 Output Shape              Param #   \n=================================================================\ninput_8 (InputLayer)         [(None, 224, 224, 3)]     0         \n_________________________________________________________________\nconv1_pad (ZeroPadding2D)    (None, 225, 225, 3)       0         \n_________________________________________________________________\nconv1 (Conv2D)               (None, 112, 112, 32)      864       \n_________________________________________________________________\nconv1_bn (BatchNormalization (None, 112, 112, 32)      128       \n_________________________________________________________________\nconv1_relu (ReLU)            (None, 112, 112, 32)      0         \n_________________________________________________________________\nconv_dw_1 (DepthwiseConv2D)  (None, 112, 112, 32)      288       \n_________________________________________________________________\nconv_dw_1_bn (BatchNormaliza (None, 112, 112, 32)      128       \n_________________________________________________________________\nconv_dw_1_relu (ReLU)        (None, 112, 112, 32)      0         \n_________________________________________________________________\nconv_pw_1 (Conv2D)           (None, 112, 112, 64)      2048      \n_________________________________________________________________\nconv_pw_1_bn (BatchNormaliza (None, 112, 112, 64)      256       \n_________________________________________________________________\nconv_pw_1_relu (ReLU)        (None, 112, 112, 64)      0         \n_________________________________________________________________\nconv_pad_2 (ZeroPadding2D)   (None, 113, 113, 64)      0         \n_________________________________________________________________\nconv_dw_2 (DepthwiseConv2D)  (None, 56, 56, 64)        576       \n_________________________________________________________________\nconv_dw_2_bn (BatchNormaliza (None, 56, 56, 64)        256       \n_________________________________________________________________\nconv_dw_2_relu (ReLU)        (None, 56, 56, 64)        0         \n_________________________________________________________________\nconv_pw_2 (Conv2D)           (None, 56, 56, 128)       8192      \n_________________________________________________________________\nconv_pw_2_bn (BatchNormaliza (None, 56, 56, 128)       512       \n_________________________________________________________________\nconv_pw_2_relu (ReLU)        (None, 56, 56, 128)       0         \n_________________________________________________________________\nconv_dw_3 (DepthwiseConv2D)  (None, 56, 56, 128)       1152      \n_________________________________________________________________\nconv_dw_3_bn (BatchNormaliza (None, 56, 56, 128)       512       \n_________________________________________________________________\nconv_dw_3_relu (ReLU)        (None, 56, 56, 128)       0         \n_________________________________________________________________\nconv_pw_3 (Conv2D)           (None, 56, 56, 128)       16384     \n_________________________________________________________________\nconv_pw_3_bn (BatchNormaliza (None, 56, 56, 128)       512       \n_________________________________________________________________\nconv_pw_3_relu (ReLU)        (None, 56, 56, 128)       0         \n_________________________________________________________________\nconv_pad_4 (ZeroPadding2D)   (None, 57, 57, 128)       0         \n_________________________________________________________________\nconv_dw_4 (DepthwiseConv2D)  (None, 28, 28, 128)       1152      \n_________________________________________________________________\nconv_dw_4_bn (BatchNormaliza (None, 28, 28, 128)       512       \n_________________________________________________________________\nconv_dw_4_relu (ReLU)        (None, 28, 28, 128)       0         \n_________________________________________________________________\nconv_pw_4 (Conv2D)           (None, 28, 28, 256)       32768     \n_________________________________________________________________\nconv_pw_4_bn (BatchNormaliza (None, 28, 28, 256)       1024      \n_________________________________________________________________\nconv_pw_4_relu (ReLU)        (None, 28, 28, 256)       0         \n_________________________________________________________________\nconv_dw_5 (DepthwiseConv2D)  (None, 28, 28, 256)       2304      \n_________________________________________________________________\nconv_dw_5_bn (BatchNormaliza (None, 28, 28, 256)       1024      \n_________________________________________________________________\nconv_dw_5_relu (ReLU)        (None, 28, 28, 256)       0         \n_________________________________________________________________\nconv_pw_5 (Conv2D)           (None, 28, 28, 256)       65536     \n_________________________________________________________________\nconv_pw_5_bn (BatchNormaliza (None, 28, 28, 256)       1024      \n_________________________________________________________________\nconv_pw_5_relu (ReLU)        (None, 28, 28, 256)       0         \n_________________________________________________________________\nconv_pad_6 (ZeroPadding2D)   (None, 29, 29, 256)       0         \n_________________________________________________________________\nconv_dw_6 (DepthwiseConv2D)  (None, 14, 14, 256)       2304      \n_________________________________________________________________\nconv_dw_6_bn (BatchNormaliza (None, 14, 14, 256)       1024      \n_________________________________________________________________\nconv_dw_6_relu (ReLU)        (None, 14, 14, 256)       0         \n_________________________________________________________________\nconv_pw_6 (Conv2D)           (None, 14, 14, 512)       131072    \n_________________________________________________________________\nconv_pw_6_bn (BatchNormaliza (None, 14, 14, 512)       2048      \n_________________________________________________________________\nconv_pw_6_relu (ReLU)        (None, 14, 14, 512)       0         \n_________________________________________________________________\nconv_dw_7 (DepthwiseConv2D)  (None, 14, 14, 512)       4608      \n_________________________________________________________________\nconv_dw_7_bn (BatchNormaliza (None, 14, 14, 512)       2048      \n_________________________________________________________________\nconv_dw_7_relu (ReLU)        (None, 14, 14, 512)       0         \n_________________________________________________________________\nconv_pw_7 (Conv2D)           (None, 14, 14, 512)       262144    \n_________________________________________________________________\nconv_pw_7_bn (BatchNormaliza (None, 14, 14, 512)       2048      \n_________________________________________________________________\nconv_pw_7_relu (ReLU)        (None, 14, 14, 512)       0         \n_________________________________________________________________\nconv_dw_8 (DepthwiseConv2D)  (None, 14, 14, 512)       4608      \n_________________________________________________________________\nconv_dw_8_bn (BatchNormaliza (None, 14, 14, 512)       2048      \n_________________________________________________________________\nconv_dw_8_relu (ReLU)        (None, 14, 14, 512)       0         \n_________________________________________________________________\nconv_pw_8 (Conv2D)           (None, 14, 14, 512)       262144    \n_________________________________________________________________\nconv_pw_8_bn (BatchNormaliza (None, 14, 14, 512)       2048      \n_________________________________________________________________\nconv_pw_8_relu (ReLU)        (None, 14, 14, 512)       0         \n_________________________________________________________________\nconv_dw_9 (DepthwiseConv2D)  (None, 14, 14, 512)       4608      \n_________________________________________________________________\nconv_dw_9_bn (BatchNormaliza (None, 14, 14, 512)       2048      \n_________________________________________________________________\nconv_dw_9_relu (ReLU)        (None, 14, 14, 512)       0         \n_________________________________________________________________\nconv_pw_9 (Conv2D)           (None, 14, 14, 512)       262144    \n_________________________________________________________________\nconv_pw_9_bn (BatchNormaliza (None, 14, 14, 512)       2048      \n_________________________________________________________________\nconv_pw_9_relu (ReLU)        (None, 14, 14, 512)       0         \n_________________________________________________________________\nconv_dw_10 (DepthwiseConv2D) (None, 14, 14, 512)       4608      \n_________________________________________________________________\nconv_dw_10_bn (BatchNormaliz (None, 14, 14, 512)       2048      \n_________________________________________________________________\nconv_dw_10_relu (ReLU)       (None, 14, 14, 512)       0         \n_________________________________________________________________\nconv_pw_10 (Conv2D)          (None, 14, 14, 512)       262144    \n_________________________________________________________________\nconv_pw_10_bn (BatchNormaliz (None, 14, 14, 512)       2048      \n_________________________________________________________________\nconv_pw_10_relu (ReLU)       (None, 14, 14, 512)       0         \n_________________________________________________________________\nconv_dw_11 (DepthwiseConv2D) (None, 14, 14, 512)       4608      \n_________________________________________________________________\nconv_dw_11_bn (BatchNormaliz (None, 14, 14, 512)       2048      \n_________________________________________________________________\nconv_dw_11_relu (ReLU)       (None, 14, 14, 512)       0         \n_________________________________________________________________\nconv_pw_11 (Conv2D)          (None, 14, 14, 512)       262144    \n_________________________________________________________________\nconv_pw_11_bn (BatchNormaliz (None, 14, 14, 512)       2048      \n_________________________________________________________________\nconv_pw_11_relu (ReLU)       (None, 14, 14, 512)       0         \n_________________________________________________________________\nconv_pad_12 (ZeroPadding2D)  (None, 15, 15, 512)       0         \n_________________________________________________________________\nconv_dw_12 (DepthwiseConv2D) (None, 7, 7, 512)         4608      \n_________________________________________________________________\nconv_dw_12_bn (BatchNormaliz (None, 7, 7, 512)         2048      \n_________________________________________________________________\nconv_dw_12_relu (ReLU)       (None, 7, 7, 512)         0         \n_________________________________________________________________\nconv_pw_12 (Conv2D)          (None, 7, 7, 1024)        524288    \n_________________________________________________________________\nconv_pw_12_bn (BatchNormaliz (None, 7, 7, 1024)        4096      \n_________________________________________________________________\nconv_pw_12_relu (ReLU)       (None, 7, 7, 1024)        0         \n_________________________________________________________________\nconv_dw_13 (DepthwiseConv2D) (None, 7, 7, 1024)        9216      \n_________________________________________________________________\nconv_dw_13_bn (BatchNormaliz (None, 7, 7, 1024)        4096      \n_________________________________________________________________\nconv_dw_13_relu (ReLU)       (None, 7, 7, 1024)        0         \n_________________________________________________________________\nconv_pw_13 (Conv2D)          (None, 7, 7, 1024)        1048576   \n_________________________________________________________________\nconv_pw_13_bn (BatchNormaliz (None, 7, 7, 1024)        4096      \n_________________________________________________________________\nconv_pw_13_relu (ReLU)       (None, 7, 7, 1024)        0         \n_________________________________________________________________\nglobal_average_pooling2d_9 ( (None, 1024)              0         \n_________________________________________________________________\ndense_35 (Dense)             (None, 1024)              1049600   \n_________________________________________________________________\nbatch_normalization_9 (Batch (None, 1024)              4096      \n_________________________________________________________________\ndropout_8 (Dropout)          (None, 1024)              0         \n_________________________________________________________________\ndense_36 (Dense)             (None, 2)                 2050      \n=================================================================\nTotal params: 4,284,610\nTrainable params: 4,260,674\nNon-trainable params: 23,936\n_________________________________________________________________\n"
     ]
    }
   ],
   "source": [
    "\n",
    "end_layers_at = -6\n",
    "kept_layers = mobile.layers[end_layers_at].output\n",
    "kept_layers = keras.layers.Dense(units=1024,activation='relu')(kept_layers)\n",
    "kept_layers = keras.layers.BatchNormalization()(kept_layers)\n",
    "kept_layers = keras.layers.Dropout(0.2)(kept_layers)\n",
    "output = keras.layers.Dense(units=2,activation='softmax')(kept_layers)\n",
    "model = Model(inputs=mobile.input,outputs=output)\n",
    "\n",
    "freeze_layers_until = -1\n",
    "for layer in model.layers[:freeze_layers_until]:\n",
    "    layer.treinable = False\n",
    "model.summary()"
   ]
  },
  {
   "cell_type": "code",
   "execution_count": 89,
   "metadata": {
    "tags": []
   },
   "outputs": [
    {
     "output_type": "stream",
     "name": "stdout",
     "text": [
      "Epoch 1/30\n",
      "WARNING:tensorflow:AutoGraph could not transform <function Model.make_train_function.<locals>.train_function at 0x0000021AD9C9B8B8> and will run it as-is.\n",
      "Please report this to the TensorFlow team. When filing the bug, set the verbosity to 10 (on Linux, `export AUTOGRAPH_VERBOSITY=10`) and attach the full output.\n",
      "Cause: Bad argument number for Name: 4, expecting 3\n",
      "To silence this warning, decorate the function with @tf.autograph.experimental.do_not_convert\n",
      "WARNING: AutoGraph could not transform <function Model.make_train_function.<locals>.train_function at 0x0000021AD9C9B8B8> and will run it as-is.\n",
      "Please report this to the TensorFlow team. When filing the bug, set the verbosity to 10 (on Linux, `export AUTOGRAPH_VERBOSITY=10`) and attach the full output.\n",
      "Cause: Bad argument number for Name: 4, expecting 3\n",
      "To silence this warning, decorate the function with @tf.autograph.experimental.do_not_convert\n",
      "WARNING:tensorflow:AutoGraph could not transform <function Model.make_test_function.<locals>.test_function at 0x0000021AD2AEE678> and will run it as-is.\n",
      "Please report this to the TensorFlow team. When filing the bug, set the verbosity to 10 (on Linux, `export AUTOGRAPH_VERBOSITY=10`) and attach the full output.\n",
      "Cause: Bad argument number for Name: 4, expecting 3\n",
      "To silence this warning, decorate the function with @tf.autograph.experimental.do_not_convert\n",
      "WARNING: AutoGraph could not transform <function Model.make_test_function.<locals>.test_function at 0x0000021AD2AEE678> and will run it as-is.\n",
      "Please report this to the TensorFlow team. When filing the bug, set the verbosity to 10 (on Linux, `export AUTOGRAPH_VERBOSITY=10`) and attach the full output.\n",
      "Cause: Bad argument number for Name: 4, expecting 3\n",
      "To silence this warning, decorate the function with @tf.autograph.experimental.do_not_convert\n",
      "123/123 - 282s - loss: 0.9197 - accuracy: 0.5842 - val_loss: 0.7652 - val_accuracy: 0.5931\n",
      "Epoch 2/30\n",
      "123/123 - 296s - loss: 0.5900 - accuracy: 0.7141 - val_loss: 0.9823 - val_accuracy: 0.5907\n",
      "Epoch 3/30\n",
      "123/123 - 301s - loss: 0.4547 - accuracy: 0.7933 - val_loss: 1.0532 - val_accuracy: 0.6201\n",
      "Epoch 4/30\n",
      "123/123 - 303s - loss: 0.3723 - accuracy: 0.8284 - val_loss: 0.9708 - val_accuracy: 0.6740\n",
      "Epoch 5/30\n",
      "123/123 - 297s - loss: 0.3140 - accuracy: 0.8775 - val_loss: 0.9479 - val_accuracy: 0.6887\n",
      "Epoch 6/30\n",
      "123/123 - 294s - loss: 0.2737 - accuracy: 0.8889 - val_loss: 0.9879 - val_accuracy: 0.6716\n",
      "Epoch 7/30\n",
      "123/123 - 277s - loss: 0.2325 - accuracy: 0.9044 - val_loss: 1.0578 - val_accuracy: 0.6642\n",
      "Epoch 8/30\n",
      "123/123 - 276s - loss: 0.1985 - accuracy: 0.9142 - val_loss: 1.5992 - val_accuracy: 0.6103\n",
      "Epoch 9/30\n",
      "123/123 - 290s - loss: 0.2144 - accuracy: 0.9101 - val_loss: 1.1697 - val_accuracy: 0.6520\n",
      "Epoch 10/30\n",
      "123/123 - 303s - loss: 0.2194 - accuracy: 0.9150 - val_loss: 1.3513 - val_accuracy: 0.6520\n",
      "Epoch 11/30\n",
      "123/123 - 280s - loss: 0.2123 - accuracy: 0.9142 - val_loss: 1.2575 - val_accuracy: 0.6422\n",
      "Epoch 12/30\n",
      "123/123 - 271s - loss: 0.2128 - accuracy: 0.9142 - val_loss: 0.9894 - val_accuracy: 0.6961\n",
      "Epoch 13/30\n",
      "123/123 - 270s - loss: 0.1519 - accuracy: 0.9412 - val_loss: 1.1186 - val_accuracy: 0.6740\n",
      "Epoch 14/30\n",
      "123/123 - 268s - loss: 0.1338 - accuracy: 0.9444 - val_loss: 1.9849 - val_accuracy: 0.6054\n",
      "Epoch 15/30\n",
      "123/123 - 268s - loss: 0.1426 - accuracy: 0.9371 - val_loss: 1.2876 - val_accuracy: 0.7108\n",
      "Epoch 16/30\n",
      "123/123 - 275s - loss: 0.1558 - accuracy: 0.9461 - val_loss: 1.1681 - val_accuracy: 0.7059\n",
      "Epoch 17/30\n",
      "123/123 - 265s - loss: 0.1512 - accuracy: 0.9355 - val_loss: 1.1805 - val_accuracy: 0.7010\n",
      "Epoch 18/30\n",
      "123/123 - 270s - loss: 0.1247 - accuracy: 0.9534 - val_loss: 1.6526 - val_accuracy: 0.6936\n",
      "Epoch 19/30\n",
      "123/123 - 269s - loss: 0.1272 - accuracy: 0.9534 - val_loss: 1.4610 - val_accuracy: 0.6569\n",
      "Epoch 20/30\n",
      "123/123 - 267s - loss: 0.1288 - accuracy: 0.9518 - val_loss: 1.3380 - val_accuracy: 0.6961\n",
      "Epoch 21/30\n",
      "123/123 - 262s - loss: 0.1129 - accuracy: 0.9608 - val_loss: 1.3936 - val_accuracy: 0.6544\n",
      "Epoch 22/30\n",
      "123/123 - 265s - loss: 0.1248 - accuracy: 0.9542 - val_loss: 1.3109 - val_accuracy: 0.6642\n",
      "Epoch 23/30\n",
      "123/123 - 261s - loss: 0.1222 - accuracy: 0.9502 - val_loss: 1.2919 - val_accuracy: 0.7059\n",
      "Epoch 24/30\n",
      "123/123 - 265s - loss: 0.1463 - accuracy: 0.9453 - val_loss: 1.0332 - val_accuracy: 0.7230\n",
      "Epoch 25/30\n",
      "123/123 - 268s - loss: 0.1217 - accuracy: 0.9567 - val_loss: 1.5199 - val_accuracy: 0.6936\n",
      "Epoch 26/30\n",
      "123/123 - 266s - loss: 0.1241 - accuracy: 0.9542 - val_loss: 1.2610 - val_accuracy: 0.7108\n",
      "Epoch 27/30\n",
      "123/123 - 275s - loss: 0.1148 - accuracy: 0.9583 - val_loss: 1.2219 - val_accuracy: 0.7157\n",
      "Epoch 28/30\n",
      "123/123 - 276s - loss: 0.1334 - accuracy: 0.9526 - val_loss: 1.1852 - val_accuracy: 0.6887\n",
      "Epoch 29/30\n",
      "123/123 - 282s - loss: 0.0899 - accuracy: 0.9673 - val_loss: 1.2860 - val_accuracy: 0.7230\n",
      "Epoch 30/30\n",
      "123/123 - 304s - loss: 0.1013 - accuracy: 0.9608 - val_loss: 1.2803 - val_accuracy: 0.6961\n"
     ]
    },
    {
     "output_type": "execute_result",
     "data": {
      "text/plain": [
       "<tensorflow.python.keras.callbacks.History at 0x21ae5787dc8>"
      ]
     },
     "metadata": {},
     "execution_count": 89
    }
   ],
   "source": [
    "model.compile(optimizer=Adam(learning_rate=0.0001),loss='categorical_crossentropy',metrics=['accuracy'])\n",
    "model.fit(x=train_batches,validation_data=validation_batches,epochs=30,verbose=2)"
   ]
  },
  {
   "cell_type": "code",
   "execution_count": 90,
   "metadata": {},
   "outputs": [
    {
     "output_type": "stream",
     "name": "stdout",
     "text": [
      "WARNING:tensorflow:AutoGraph could not transform <function canonicalize_signatures.<locals>.signature_wrapper at 0x0000021B1689DCA8> and will run it as-is.\n",
      "Please report this to the TensorFlow team. When filing the bug, set the verbosity to 10 (on Linux, `export AUTOGRAPH_VERBOSITY=10`) and attach the full output.\n",
      "Cause: Bad argument number for Name: 4, expecting 3\n",
      "To silence this warning, decorate the function with @tf.autograph.experimental.do_not_convert\n",
      "WARNING: AutoGraph could not transform <function canonicalize_signatures.<locals>.signature_wrapper at 0x0000021B1689DCA8> and will run it as-is.\n",
      "Please report this to the TensorFlow team. When filing the bug, set the verbosity to 10 (on Linux, `export AUTOGRAPH_VERBOSITY=10`) and attach the full output.\n",
      "Cause: Bad argument number for Name: 4, expecting 3\n",
      "To silence this warning, decorate the function with @tf.autograph.experimental.do_not_convert\n",
      "WARNING:tensorflow:From C:\\Users\\roben\\anaconda3_64\\envs\\catArt\\lib\\site-packages\\tensorflow\\python\\ops\\resource_variable_ops.py:1817: calling BaseResourceVariable.__init__ (from tensorflow.python.ops.resource_variable_ops) with constraint is deprecated and will be removed in a future version.\n",
      "Instructions for updating:\n",
      "If using Keras pass *_constraint arguments to layers.\n",
      "INFO:tensorflow:Assets written to: warmed_up_model\\assets\n"
     ]
    }
   ],
   "source": [
    "model.save('warmed_up_model')"
   ]
  },
  {
   "cell_type": "code",
   "execution_count": 4,
   "metadata": {},
   "outputs": [
    {
     "output_type": "stream",
     "name": "stdout",
     "text": [
      "Model: \"model_16\"\n_________________________________________________________________\nLayer (type)                 Output Shape              Param #   \n=================================================================\ninput_8 (InputLayer)         [(None, 224, 224, 3)]     0         \n_________________________________________________________________\nconv1_pad (ZeroPadding2D)    (None, 225, 225, 3)       0         \n_________________________________________________________________\nconv1 (Conv2D)               (None, 112, 112, 32)      864       \n_________________________________________________________________\nconv1_bn (BatchNormalization (None, 112, 112, 32)      128       \n_________________________________________________________________\nconv1_relu (ReLU)            (None, 112, 112, 32)      0         \n_________________________________________________________________\nconv_dw_1 (DepthwiseConv2D)  (None, 112, 112, 32)      288       \n_________________________________________________________________\nconv_dw_1_bn (BatchNormaliza (None, 112, 112, 32)      128       \n_________________________________________________________________\nconv_dw_1_relu (ReLU)        (None, 112, 112, 32)      0         \n_________________________________________________________________\nconv_pw_1 (Conv2D)           (None, 112, 112, 64)      2048      \n_________________________________________________________________\nconv_pw_1_bn (BatchNormaliza (None, 112, 112, 64)      256       \n_________________________________________________________________\nconv_pw_1_relu (ReLU)        (None, 112, 112, 64)      0         \n_________________________________________________________________\nconv_pad_2 (ZeroPadding2D)   (None, 113, 113, 64)      0         \n_________________________________________________________________\nconv_dw_2 (DepthwiseConv2D)  (None, 56, 56, 64)        576       \n_________________________________________________________________\nconv_dw_2_bn (BatchNormaliza (None, 56, 56, 64)        256       \n_________________________________________________________________\nconv_dw_2_relu (ReLU)        (None, 56, 56, 64)        0         \n_________________________________________________________________\nconv_pw_2 (Conv2D)           (None, 56, 56, 128)       8192      \n_________________________________________________________________\nconv_pw_2_bn (BatchNormaliza (None, 56, 56, 128)       512       \n_________________________________________________________________\nconv_pw_2_relu (ReLU)        (None, 56, 56, 128)       0         \n_________________________________________________________________\nconv_dw_3 (DepthwiseConv2D)  (None, 56, 56, 128)       1152      \n_________________________________________________________________\nconv_dw_3_bn (BatchNormaliza (None, 56, 56, 128)       512       \n_________________________________________________________________\nconv_dw_3_relu (ReLU)        (None, 56, 56, 128)       0         \n_________________________________________________________________\nconv_pw_3 (Conv2D)           (None, 56, 56, 128)       16384     \n_________________________________________________________________\nconv_pw_3_bn (BatchNormaliza (None, 56, 56, 128)       512       \n_________________________________________________________________\nconv_pw_3_relu (ReLU)        (None, 56, 56, 128)       0         \n_________________________________________________________________\nconv_pad_4 (ZeroPadding2D)   (None, 57, 57, 128)       0         \n_________________________________________________________________\nconv_dw_4 (DepthwiseConv2D)  (None, 28, 28, 128)       1152      \n_________________________________________________________________\nconv_dw_4_bn (BatchNormaliza (None, 28, 28, 128)       512       \n_________________________________________________________________\nconv_dw_4_relu (ReLU)        (None, 28, 28, 128)       0         \n_________________________________________________________________\nconv_pw_4 (Conv2D)           (None, 28, 28, 256)       32768     \n_________________________________________________________________\nconv_pw_4_bn (BatchNormaliza (None, 28, 28, 256)       1024      \n_________________________________________________________________\nconv_pw_4_relu (ReLU)        (None, 28, 28, 256)       0         \n_________________________________________________________________\nconv_dw_5 (DepthwiseConv2D)  (None, 28, 28, 256)       2304      \n_________________________________________________________________\nconv_dw_5_bn (BatchNormaliza (None, 28, 28, 256)       1024      \n_________________________________________________________________\nconv_dw_5_relu (ReLU)        (None, 28, 28, 256)       0         \n_________________________________________________________________\nconv_pw_5 (Conv2D)           (None, 28, 28, 256)       65536     \n_________________________________________________________________\nconv_pw_5_bn (BatchNormaliza (None, 28, 28, 256)       1024      \n_________________________________________________________________\nconv_pw_5_relu (ReLU)        (None, 28, 28, 256)       0         \n_________________________________________________________________\nconv_pad_6 (ZeroPadding2D)   (None, 29, 29, 256)       0         \n_________________________________________________________________\nconv_dw_6 (DepthwiseConv2D)  (None, 14, 14, 256)       2304      \n_________________________________________________________________\nconv_dw_6_bn (BatchNormaliza (None, 14, 14, 256)       1024      \n_________________________________________________________________\nconv_dw_6_relu (ReLU)        (None, 14, 14, 256)       0         \n_________________________________________________________________\nconv_pw_6 (Conv2D)           (None, 14, 14, 512)       131072    \n_________________________________________________________________\nconv_pw_6_bn (BatchNormaliza (None, 14, 14, 512)       2048      \n_________________________________________________________________\nconv_pw_6_relu (ReLU)        (None, 14, 14, 512)       0         \n_________________________________________________________________\nconv_dw_7 (DepthwiseConv2D)  (None, 14, 14, 512)       4608      \n_________________________________________________________________\nconv_dw_7_bn (BatchNormaliza (None, 14, 14, 512)       2048      \n_________________________________________________________________\nconv_dw_7_relu (ReLU)        (None, 14, 14, 512)       0         \n_________________________________________________________________\nconv_pw_7 (Conv2D)           (None, 14, 14, 512)       262144    \n_________________________________________________________________\nconv_pw_7_bn (BatchNormaliza (None, 14, 14, 512)       2048      \n_________________________________________________________________\nconv_pw_7_relu (ReLU)        (None, 14, 14, 512)       0         \n_________________________________________________________________\nconv_dw_8 (DepthwiseConv2D)  (None, 14, 14, 512)       4608      \n_________________________________________________________________\nconv_dw_8_bn (BatchNormaliza (None, 14, 14, 512)       2048      \n_________________________________________________________________\nconv_dw_8_relu (ReLU)        (None, 14, 14, 512)       0         \n_________________________________________________________________\nconv_pw_8 (Conv2D)           (None, 14, 14, 512)       262144    \n_________________________________________________________________\nconv_pw_8_bn (BatchNormaliza (None, 14, 14, 512)       2048      \n_________________________________________________________________\nconv_pw_8_relu (ReLU)        (None, 14, 14, 512)       0         \n_________________________________________________________________\nconv_dw_9 (DepthwiseConv2D)  (None, 14, 14, 512)       4608      \n_________________________________________________________________\nconv_dw_9_bn (BatchNormaliza (None, 14, 14, 512)       2048      \n_________________________________________________________________\nconv_dw_9_relu (ReLU)        (None, 14, 14, 512)       0         \n_________________________________________________________________\nconv_pw_9 (Conv2D)           (None, 14, 14, 512)       262144    \n_________________________________________________________________\nconv_pw_9_bn (BatchNormaliza (None, 14, 14, 512)       2048      \n_________________________________________________________________\nconv_pw_9_relu (ReLU)        (None, 14, 14, 512)       0         \n_________________________________________________________________\nconv_dw_10 (DepthwiseConv2D) (None, 14, 14, 512)       4608      \n_________________________________________________________________\nconv_dw_10_bn (BatchNormaliz (None, 14, 14, 512)       2048      \n_________________________________________________________________\nconv_dw_10_relu (ReLU)       (None, 14, 14, 512)       0         \n_________________________________________________________________\nconv_pw_10 (Conv2D)          (None, 14, 14, 512)       262144    \n_________________________________________________________________\nconv_pw_10_bn (BatchNormaliz (None, 14, 14, 512)       2048      \n_________________________________________________________________\nconv_pw_10_relu (ReLU)       (None, 14, 14, 512)       0         \n_________________________________________________________________\nconv_dw_11 (DepthwiseConv2D) (None, 14, 14, 512)       4608      \n_________________________________________________________________\nconv_dw_11_bn (BatchNormaliz (None, 14, 14, 512)       2048      \n_________________________________________________________________\nconv_dw_11_relu (ReLU)       (None, 14, 14, 512)       0         \n_________________________________________________________________\nconv_pw_11 (Conv2D)          (None, 14, 14, 512)       262144    \n_________________________________________________________________\nconv_pw_11_bn (BatchNormaliz (None, 14, 14, 512)       2048      \n_________________________________________________________________\nconv_pw_11_relu (ReLU)       (None, 14, 14, 512)       0         \n_________________________________________________________________\nconv_pad_12 (ZeroPadding2D)  (None, 15, 15, 512)       0         \n_________________________________________________________________\nconv_dw_12 (DepthwiseConv2D) (None, 7, 7, 512)         4608      \n_________________________________________________________________\nconv_dw_12_bn (BatchNormaliz (None, 7, 7, 512)         2048      \n_________________________________________________________________\nconv_dw_12_relu (ReLU)       (None, 7, 7, 512)         0         \n_________________________________________________________________\nconv_pw_12 (Conv2D)          (None, 7, 7, 1024)        524288    \n_________________________________________________________________\nconv_pw_12_bn (BatchNormaliz (None, 7, 7, 1024)        4096      \n_________________________________________________________________\nconv_pw_12_relu (ReLU)       (None, 7, 7, 1024)        0         \n_________________________________________________________________\nconv_dw_13 (DepthwiseConv2D) (None, 7, 7, 1024)        9216      \n_________________________________________________________________\nconv_dw_13_bn (BatchNormaliz (None, 7, 7, 1024)        4096      \n_________________________________________________________________\nconv_dw_13_relu (ReLU)       (None, 7, 7, 1024)        0         \n_________________________________________________________________\nconv_pw_13 (Conv2D)          (None, 7, 7, 1024)        1048576   \n_________________________________________________________________\nconv_pw_13_bn (BatchNormaliz (None, 7, 7, 1024)        4096      \n_________________________________________________________________\nconv_pw_13_relu (ReLU)       (None, 7, 7, 1024)        0         \n_________________________________________________________________\nglobal_average_pooling2d_9 ( (None, 1024)              0         \n_________________________________________________________________\ndense_35 (Dense)             (None, 1024)              1049600   \n_________________________________________________________________\nbatch_normalization_9 (Batch (None, 1024)              4096      \n_________________________________________________________________\ndropout_8 (Dropout)          (None, 1024)              0         \n_________________________________________________________________\ndense_36 (Dense)             (None, 2)                 2050      \n=================================================================\nTotal params: 4,284,610\nTrainable params: 4,260,674\nNon-trainable params: 23,936\n_________________________________________________________________\n"
     ]
    }
   ],
   "source": [
    "model = keras.models.load_model('warmed_up_model')\n",
    "model.treinable = True\n",
    "'''\n",
    "for layer in model.layers:\n",
    "    if 'pw' in layer.name:\n",
    "        layer.trainable = True\n",
    "        print(layer.name)\n",
    "    else:\n",
    "        layer.trainable = False\n",
    "'''\n",
    "model.summary()"
   ]
  },
  {
   "cell_type": "code",
   "execution_count": 5,
   "metadata": {},
   "outputs": [
    {
     "output_type": "stream",
     "name": "stdout",
     "text": [
      "Epoch 1/30\n",
      "WARNING:tensorflow:AutoGraph could not transform <function Model.make_train_function.<locals>.train_function at 0x000001CD43D39C18> and will run it as-is.\n",
      "Please report this to the TensorFlow team. When filing the bug, set the verbosity to 10 (on Linux, `export AUTOGRAPH_VERBOSITY=10`) and attach the full output.\n",
      "Cause: Bad argument number for Name: 4, expecting 3\n",
      "To silence this warning, decorate the function with @tf.autograph.experimental.do_not_convert\n",
      "WARNING: AutoGraph could not transform <function Model.make_train_function.<locals>.train_function at 0x000001CD43D39C18> and will run it as-is.\n",
      "Please report this to the TensorFlow team. When filing the bug, set the verbosity to 10 (on Linux, `export AUTOGRAPH_VERBOSITY=10`) and attach the full output.\n",
      "Cause: Bad argument number for Name: 4, expecting 3\n",
      "To silence this warning, decorate the function with @tf.autograph.experimental.do_not_convert\n",
      "WARNING:tensorflow:AutoGraph could not transform <function Model.make_test_function.<locals>.test_function at 0x000001CD43F2A9D8> and will run it as-is.\n",
      "Please report this to the TensorFlow team. When filing the bug, set the verbosity to 10 (on Linux, `export AUTOGRAPH_VERBOSITY=10`) and attach the full output.\n",
      "Cause: Bad argument number for Name: 4, expecting 3\n",
      "To silence this warning, decorate the function with @tf.autograph.experimental.do_not_convert\n",
      "WARNING: AutoGraph could not transform <function Model.make_test_function.<locals>.test_function at 0x000001CD43F2A9D8> and will run it as-is.\n",
      "Please report this to the TensorFlow team. When filing the bug, set the verbosity to 10 (on Linux, `export AUTOGRAPH_VERBOSITY=10`) and attach the full output.\n",
      "Cause: Bad argument number for Name: 4, expecting 3\n",
      "To silence this warning, decorate the function with @tf.autograph.experimental.do_not_convert\n",
      "123/123 - 261s - loss: 0.1686 - accuracy: 0.9420 - val_loss: 1.6263 - val_accuracy: 0.6814\n",
      "Epoch 2/30\n",
      "123/123 - 259s - loss: 0.1857 - accuracy: 0.9306 - val_loss: 1.2301 - val_accuracy: 0.7083\n",
      "Epoch 3/30\n",
      "123/123 - 263s - loss: 0.0872 - accuracy: 0.9714 - val_loss: 1.0506 - val_accuracy: 0.7549\n",
      "Epoch 4/30\n",
      "123/123 - 260s - loss: 0.1431 - accuracy: 0.9453 - val_loss: 1.3280 - val_accuracy: 0.7426\n",
      "Epoch 5/30\n",
      "123/123 - 264s - loss: 0.1628 - accuracy: 0.9428 - val_loss: 1.1142 - val_accuracy: 0.7230\n",
      "Epoch 6/30\n",
      "123/123 - 260s - loss: 0.1437 - accuracy: 0.9485 - val_loss: 1.0120 - val_accuracy: 0.7206\n",
      "Epoch 7/30\n",
      "123/123 - 273s - loss: 0.0996 - accuracy: 0.9567 - val_loss: 1.1260 - val_accuracy: 0.7353\n",
      "Epoch 8/30\n",
      "123/123 - 268s - loss: 0.1349 - accuracy: 0.9510 - val_loss: 1.3454 - val_accuracy: 0.6985\n",
      "Epoch 9/30\n",
      "123/123 - 271s - loss: 0.0879 - accuracy: 0.9641 - val_loss: 1.5037 - val_accuracy: 0.6716\n",
      "Epoch 10/30\n",
      "123/123 - 274s - loss: 0.1206 - accuracy: 0.9632 - val_loss: 2.4637 - val_accuracy: 0.6299\n",
      "Epoch 11/30\n",
      "123/123 - 274s - loss: 0.1539 - accuracy: 0.9395 - val_loss: 1.0228 - val_accuracy: 0.7402\n",
      "Epoch 12/30\n",
      "123/123 - 282s - loss: 0.1081 - accuracy: 0.9567 - val_loss: 1.0652 - val_accuracy: 0.7377\n",
      "Epoch 13/30\n",
      "123/123 - 275s - loss: 0.1267 - accuracy: 0.9542 - val_loss: 1.0841 - val_accuracy: 0.7034\n",
      "Epoch 14/30\n",
      "123/123 - 277s - loss: 0.1323 - accuracy: 0.9493 - val_loss: 1.1483 - val_accuracy: 0.7377\n",
      "Epoch 15/30\n",
      "123/123 - 274s - loss: 0.0825 - accuracy: 0.9681 - val_loss: 1.1707 - val_accuracy: 0.7157\n",
      "Epoch 16/30\n",
      "123/123 - 276s - loss: 0.0733 - accuracy: 0.9747 - val_loss: 1.7221 - val_accuracy: 0.6716\n",
      "Epoch 17/30\n",
      "123/123 - 277s - loss: 0.1105 - accuracy: 0.9583 - val_loss: 1.2081 - val_accuracy: 0.7230\n",
      "Epoch 18/30\n",
      "123/123 - 276s - loss: 0.1305 - accuracy: 0.9567 - val_loss: 1.0490 - val_accuracy: 0.7377\n",
      "Epoch 19/30\n",
      "123/123 - 276s - loss: 0.0846 - accuracy: 0.9690 - val_loss: 1.1448 - val_accuracy: 0.7034\n",
      "Epoch 20/30\n",
      "123/123 - 279s - loss: 0.0998 - accuracy: 0.9592 - val_loss: 1.0967 - val_accuracy: 0.7230\n",
      "Epoch 21/30\n",
      "123/123 - 275s - loss: 0.0591 - accuracy: 0.9796 - val_loss: 1.0266 - val_accuracy: 0.7304\n",
      "Epoch 22/30\n",
      "123/123 - 275s - loss: 0.1143 - accuracy: 0.9608 - val_loss: 1.2282 - val_accuracy: 0.7083\n",
      "Epoch 23/30\n",
      "123/123 - 278s - loss: 0.1285 - accuracy: 0.9534 - val_loss: 1.2048 - val_accuracy: 0.7328\n",
      "Epoch 24/30\n",
      "123/123 - 280s - loss: 0.0901 - accuracy: 0.9673 - val_loss: 1.1360 - val_accuracy: 0.7279\n",
      "Epoch 25/30\n",
      "123/123 - 282s - loss: 0.0672 - accuracy: 0.9730 - val_loss: 1.0397 - val_accuracy: 0.7377\n",
      "Epoch 26/30\n",
      "123/123 - 274s - loss: 0.1472 - accuracy: 0.9477 - val_loss: 1.0151 - val_accuracy: 0.7206\n",
      "Epoch 27/30\n",
      "123/123 - 279s - loss: 0.0931 - accuracy: 0.9600 - val_loss: 1.0662 - val_accuracy: 0.7451\n",
      "Epoch 28/30\n",
      "123/123 - 269s - loss: 0.0992 - accuracy: 0.9616 - val_loss: 0.9650 - val_accuracy: 0.7525\n",
      "Epoch 29/30\n",
      "123/123 - 265s - loss: 0.0986 - accuracy: 0.9657 - val_loss: 2.1163 - val_accuracy: 0.5980\n",
      "Epoch 30/30\n",
      "123/123 - 264s - loss: 0.0835 - accuracy: 0.9722 - val_loss: 1.0592 - val_accuracy: 0.7500\n"
     ]
    },
    {
     "output_type": "execute_result",
     "data": {
      "text/plain": [
       "<tensorflow.python.keras.callbacks.History at 0x1cd44de8d88>"
      ]
     },
     "metadata": {},
     "execution_count": 5
    }
   ],
   "source": [
    "model.compile(optimizer=Adam(learning_rate=0.0001),loss='categorical_crossentropy',metrics=['accuracy'])\n",
    "model.fit(x=train_batches,validation_data=validation_batches,epochs=30,verbose=2)"
   ]
  },
  {
   "cell_type": "code",
   "execution_count": 7,
   "metadata": {},
   "outputs": [
    {
     "output_type": "stream",
     "name": "stdout",
     "text": [
      "WARNING:tensorflow:AutoGraph could not transform <function canonicalize_signatures.<locals>.signature_wrapper at 0x000001CD4ED6C678> and will run it as-is.\n",
      "Please report this to the TensorFlow team. When filing the bug, set the verbosity to 10 (on Linux, `export AUTOGRAPH_VERBOSITY=10`) and attach the full output.\n",
      "Cause: Bad argument number for Name: 4, expecting 3\n",
      "To silence this warning, decorate the function with @tf.autograph.experimental.do_not_convert\n",
      "WARNING: AutoGraph could not transform <function canonicalize_signatures.<locals>.signature_wrapper at 0x000001CD4ED6C678> and will run it as-is.\n",
      "Please report this to the TensorFlow team. When filing the bug, set the verbosity to 10 (on Linux, `export AUTOGRAPH_VERBOSITY=10`) and attach the full output.\n",
      "Cause: Bad argument number for Name: 4, expecting 3\n",
      "To silence this warning, decorate the function with @tf.autograph.experimental.do_not_convert\n",
      "WARNING:tensorflow:From C:\\Users\\roben\\anaconda3_64\\envs\\catArt\\lib\\site-packages\\tensorflow\\python\\ops\\resource_variable_ops.py:1817: calling BaseResourceVariable.__init__ (from tensorflow.python.ops.resource_variable_ops) with constraint is deprecated and will be removed in a future version.\n",
      "Instructions for updating:\n",
      "If using Keras pass *_constraint arguments to layers.\n",
      "INFO:tensorflow:Assets written to: fine_tuned_MobileNet\\assets\n"
     ]
    }
   ],
   "source": [
    "model.save('fine_tuned_MobileNet')"
   ]
  },
  {
   "cell_type": "code",
   "execution_count": 6,
   "metadata": {},
   "outputs": [
    {
     "output_type": "stream",
     "name": "stdout",
     "text": [
      "Downloading data from https://storage.googleapis.com/tensorflow/keras-applications/vgg16/vgg16_weights_tf_dim_ordering_tf_kernels.h5\n",
      "553467904/553467096 [==============================] - 460s 1us/step\n",
      "Model: \"vgg16\"\n",
      "_________________________________________________________________\n",
      "Layer (type)                 Output Shape              Param #   \n",
      "=================================================================\n",
      "input_1 (InputLayer)         [(None, 224, 224, 3)]     0         \n",
      "_________________________________________________________________\n",
      "block1_conv1 (Conv2D)        (None, 224, 224, 64)      1792      \n",
      "_________________________________________________________________\n",
      "block1_conv2 (Conv2D)        (None, 224, 224, 64)      36928     \n",
      "_________________________________________________________________\n",
      "block1_pool (MaxPooling2D)   (None, 112, 112, 64)      0         \n",
      "_________________________________________________________________\n",
      "block2_conv1 (Conv2D)        (None, 112, 112, 128)     73856     \n",
      "_________________________________________________________________\n",
      "block2_conv2 (Conv2D)        (None, 112, 112, 128)     147584    \n",
      "_________________________________________________________________\n",
      "block2_pool (MaxPooling2D)   (None, 56, 56, 128)       0         \n",
      "_________________________________________________________________\n",
      "block3_conv1 (Conv2D)        (None, 56, 56, 256)       295168    \n",
      "_________________________________________________________________\n",
      "block3_conv2 (Conv2D)        (None, 56, 56, 256)       590080    \n",
      "_________________________________________________________________\n",
      "block3_conv3 (Conv2D)        (None, 56, 56, 256)       590080    \n",
      "_________________________________________________________________\n",
      "block3_pool (MaxPooling2D)   (None, 28, 28, 256)       0         \n",
      "_________________________________________________________________\n",
      "block4_conv1 (Conv2D)        (None, 28, 28, 512)       1180160   \n",
      "_________________________________________________________________\n",
      "block4_conv2 (Conv2D)        (None, 28, 28, 512)       2359808   \n",
      "_________________________________________________________________\n",
      "block4_conv3 (Conv2D)        (None, 28, 28, 512)       2359808   \n",
      "_________________________________________________________________\n",
      "block4_pool (MaxPooling2D)   (None, 14, 14, 512)       0         \n",
      "_________________________________________________________________\n",
      "block5_conv1 (Conv2D)        (None, 14, 14, 512)       2359808   \n",
      "_________________________________________________________________\n",
      "block5_conv2 (Conv2D)        (None, 14, 14, 512)       2359808   \n",
      "_________________________________________________________________\n",
      "block5_conv3 (Conv2D)        (None, 14, 14, 512)       2359808   \n",
      "_________________________________________________________________\n",
      "block5_pool (MaxPooling2D)   (None, 7, 7, 512)         0         \n",
      "_________________________________________________________________\n",
      "flatten (Flatten)            (None, 25088)             0         \n",
      "_________________________________________________________________\n",
      "fc1 (Dense)                  (None, 4096)              102764544 \n",
      "_________________________________________________________________\n",
      "fc2 (Dense)                  (None, 4096)              16781312  \n",
      "_________________________________________________________________\n",
      "predictions (Dense)          (None, 1000)              4097000   \n",
      "=================================================================\n",
      "Total params: 138,357,544\n",
      "Trainable params: 138,357,544\n",
      "Non-trainable params: 0\n",
      "_________________________________________________________________\n"
     ]
    }
   ],
   "source": [
    "vgg16 = tf.keras.applications.vgg16.VGG16()\n",
    "vgg16.summary()"
   ]
  },
  {
   "cell_type": "code",
   "execution_count": null,
   "metadata": {},
   "outputs": [],
   "source": []
  }
 ]
}