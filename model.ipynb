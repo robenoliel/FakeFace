{
 "metadata": {
  "language_info": {
   "codemirror_mode": {
    "name": "ipython",
    "version": 3
   },
   "file_extension": ".py",
   "mimetype": "text/x-python",
   "name": "python",
   "nbconvert_exporter": "python",
   "pygments_lexer": "ipython3",
   "version": "3.7.9-final"
  },
  "orig_nbformat": 2,
  "kernelspec": {
   "name": "python3",
   "display_name": "Python 3.7.9 64-bit ('catArt': conda)",
   "metadata": {
    "interpreter": {
     "hash": "5f84581e0bcba7db8806d2fc629223bae5d159360685c8bcc1980adeaa49d20c"
    }
   }
  }
 },
 "nbformat": 4,
 "nbformat_minor": 2,
 "cells": [
  {
   "source": [
    "# Artificial Faces Recognition Project\n",
    "----------\n",
    "Importing libraries:"
   ],
   "cell_type": "markdown",
   "metadata": {}
  },
  {
   "cell_type": "code",
   "execution_count": 5,
   "metadata": {},
   "outputs": [],
   "source": [
    "import os\n",
    "import tensorflow as tf\n",
    "from tensorflow import keras\n",
    "import numpy as np\n",
    "import pandas as pd\n",
    "import matplotlib.pyplot as plt\n",
    "from PIL import Image\n",
    "import io\n",
    "import glob\n",
    "import random\n",
    "import shutil"
   ]
  },
  {
   "source": [
    "Setting up our training, validation and testing data folders:"
   ],
   "cell_type": "markdown",
   "metadata": {}
  },
  {
   "cell_type": "code",
   "execution_count": null,
   "metadata": {},
   "outputs": [],
   "source": [
    "train_frac = 0.6\n",
    "validation_frac = 0.2\n",
    "\n",
    "reset_dataset = False\n",
    "\n",
    "#Let's check if the folders already exist, and if not, create them. We may want to create them again with different settings too\n",
    "if not os.path.isdir('real_and_fake_face/train/fake') or reset_dataset:\n",
    "\n",
    "    #Deleting pre existing folders if they exist\n",
    "    if not os.path.isdir('real_and_fake_face/train/fake'):\n",
    "        os.removedirs('train/real')\n",
    "        os.removedirs('train/fake')\n",
    "        os.removedirs('validation/real')    \n",
    "        os.removedirs('validation/fake')\n",
    "        os.removedirs('test/real')\n",
    "        os.removedirs('test/fake')\n",
    "\n",
    "    #Creating empty folders\n",
    "    os.makedirs('train/real')\n",
    "    os.makedirs('train/fake')\n",
    "    os.makedirs('validation/real')    \n",
    "    os.makedirs('validation/fake')\n",
    "    os.makedirs('test/real')\n",
    "    os.makedirs('test/fake')\n",
    "\n",
    "    #Separating the training, validation and test data\n",
    "    real_files = random.shuffle(os.listdir('real_complete'))\n",
    "    count_real = len(real_files)\n",
    "    fake_files = random.shuffle(os.listdir('fake_complete'))\n",
    "    count_fake = len(fake_files)\n",
    "\n",
    "    train_real = real_files[0:int(count_real*train_frac)]\n",
    "    validation_real = real_files[int(count_real*train_frac):int(count_real*train_frac)+int(count_real*validation_frac)]\n",
    "    test_real = real_files[int(count_real*train_frac)+int(count_real*validation_frac)::]\n",
    "\n",
    "    train_fake = real_files[0:int(count_fake*train_frac)]\n",
    "    validation_fake = real_files[int(count_fake*train_frac):int(count_fake*train_frac)+int(count_fake*validation_frac)]\n",
    "    test_fake = real_files[int(count_fake*train_frac)+int(count_fake*validation_frac)::]\n",
    "\n",
    "    #Filling the empty folders\n",
    "    for file in train_real:\n",
    "        src = 'real_and_fake_face/real_complete/'+file\n",
    "        dst = 'real_and_fake_face/train/real/'+file\n",
    "        shutil.copyfile(src,dst)\n",
    "    for file in validation_real:\n",
    "        src = 'real_and_fake_face/real_complete/'+file\n",
    "        dst = 'real_and_fake_face/validation/real/'+file\n",
    "        shutil.copyfile(src,dst)\n",
    "    for file in test_real:\n",
    "        src = 'real_and_fake_face/real_complete/'+file\n",
    "        dst = 'real_and_fake_face/test/real/'+file\n",
    "        shutil.copyfile(src,dst)\n",
    "    for file in train_fake:\n",
    "        src = 'real_and_fake_face/fake_complete/'+file\n",
    "        dst = 'real_and_fake_face/train/fake/'+file\n",
    "        shutil.copyfile(src,dst)\n",
    "    for file in validation_fake:\n",
    "        src = 'real_and_fake_face/fake_complete/'+file\n",
    "        dst = 'real_and_fake_face/validation/fake/'+file\n",
    "        shutil.copyfile(src,dst)\n",
    "    for file in test_fake:\n",
    "        src = 'real_and_fake_face/fake_complete/'+file\n",
    "        dst = 'real_and_fake_face/test/fake/'+file\n",
    "        shutil.copyfile(src,dst)\n"
   ]
  }
 ]
}